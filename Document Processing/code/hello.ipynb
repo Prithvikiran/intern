{
 "cells": [
  {
   "cell_type": "code",
   "execution_count": 1,
   "id": "ed959e5d-4ef7-47dc-9214-b1c38586c575",
   "metadata": {},
   "outputs": [],
   "source": [
    "import spacy"
   ]
  },
  {
   "cell_type": "code",
   "execution_count": 2,
   "id": "764e79eb-2e2e-4ecf-b9c4-040abf3bbd8d",
   "metadata": {},
   "outputs": [
    {
     "name": "stdout",
     "output_type": "stream",
     "text": [
      "['Invoice', 'number', 'to', 'be', 'generated', 'voice', 'in']\n"
     ]
    },
    {
     "name": "stderr",
     "output_type": "stream",
     "text": [
      "[nltk_data] Downloading package punkt to\n",
      "[nltk_data]     /Users/prithvikiran/nltk_data...\n",
      "[nltk_data]   Package punkt is already up-to-date!\n"
     ]
    }
   ],
   "source": [
    "import nltk\n",
    "nltk.download('punkt')\n",
    "from nltk.tokenize import word_tokenize\n",
    "\n",
    "sentence = \"Invoice number to be generated voice in\"\n",
    "tokens = word_tokenize(sentence)\n",
    "print(tokens)\n"
   ]
  },
  {
   "cell_type": "code",
   "execution_count": 3,
   "id": "7fb72072-f7ea-424e-aae7-bb540113c963",
   "metadata": {},
   "outputs": [
    {
     "name": "stderr",
     "output_type": "stream",
     "text": [
      "/Users/prithvikiran/anaconda3/lib/python3.11/site-packages/huggingface_hub/file_download.py:1132: FutureWarning: `resume_download` is deprecated and will be removed in version 1.0.0. Downloads always resume when possible. If you want to force a new download, use `force_download=True`.\n",
      "  warnings.warn(\n"
     ]
    },
    {
     "name": "stdout",
     "output_type": "stream",
     "text": [
      "['in', '##vo', '##ice', 'number', 'to', 'be', 'generated', 'voice', 'in']\n"
     ]
    }
   ],
   "source": [
    "from transformers import BertTokenizer\n",
    "\n",
    "tokenizer = BertTokenizer.from_pretrained('bert-base-uncased')\n",
    "sentence = \"Invoice number to be generated voice in\"\n",
    "tokens = tokenizer.tokenize(sentence)\n",
    "print(tokens)\n"
   ]
  },
  {
   "cell_type": "code",
   "execution_count": 4,
   "id": "3538a204-5119-4f2c-b8a4-2b1f3ac5a87e",
   "metadata": {},
   "outputs": [
    {
     "name": "stdout",
     "output_type": "stream",
     "text": [
      "['Invoice', 'number', 'to', 'be', 'generated', 'voice', 'in']\n"
     ]
    }
   ],
   "source": [
    "import spacy\n",
    "\n",
    "nlp = spacy.load(\"en_core_web_sm\")\n",
    "sentence = \"Invoice number to be generated voice in\"\n",
    "doc = nlp(sentence)\n",
    "tokens = [token.text for token in doc]\n",
    "print(tokens)\n"
   ]
  },
  {
   "cell_type": "code",
   "execution_count": 5,
   "id": "d33c4c64-847c-400f-8fe4-3a68874b171d",
   "metadata": {},
   "outputs": [
    {
     "name": "stderr",
     "output_type": "stream",
     "text": [
      "/Users/prithvikiran/anaconda3/lib/python3.11/site-packages/transformers/utils/generic.py:260: UserWarning: torch.utils._pytree._register_pytree_node is deprecated. Please use torch.utils._pytree.register_pytree_node instead.\n",
      "  torch.utils._pytree._register_pytree_node(\n",
      "/Users/prithvikiran/anaconda3/lib/python3.11/site-packages/transformers/utils/generic.py:260: UserWarning: torch.utils._pytree._register_pytree_node is deprecated. Please use torch.utils._pytree.register_pytree_node instead.\n",
      "  torch.utils._pytree._register_pytree_node(\n",
      "[nltk_data] Downloading package punkt to\n",
      "[nltk_data]     /Users/prithvikiran/nltk_data...\n",
      "[nltk_data]   Package punkt is already up-to-date!\n",
      "/Users/prithvikiran/anaconda3/lib/python3.11/site-packages/huggingface_hub/file_download.py:1132: FutureWarning: `resume_download` is deprecated and will be removed in version 1.0.0. Downloads always resume when possible. If you want to force a new download, use `force_download=True`.\n",
      "  warnings.warn(\n"
     ]
    },
    {
     "ename": "ValueError",
     "evalue": "word_ids() is not available when using non-fast tokenizers (e.g. instance of a `XxxTokenizerFast` class).",
     "output_type": "error",
     "traceback": [
      "\u001b[0;31m---------------------------------------------------------------------------\u001b[0m",
      "\u001b[0;31mValueError\u001b[0m                                Traceback (most recent call last)",
      "Cell \u001b[0;32mIn[5], line 62\u001b[0m\n\u001b[1;32m     59\u001b[0m     \u001b[38;5;28;01mreturn\u001b[39;00m embeddings\n\u001b[1;32m     61\u001b[0m \u001b[38;5;66;03m# Generate embeddings\u001b[39;00m\n\u001b[0;32m---> 62\u001b[0m bert_embeddings \u001b[38;5;241m=\u001b[39m get_bert_embeddings(tokenized_sentences, tokenizer, model)\n\u001b[1;32m     64\u001b[0m \u001b[38;5;66;03m# Display the embeddings for the first sentence as an example\u001b[39;00m\n\u001b[1;32m     65\u001b[0m \u001b[38;5;28mprint\u001b[39m(\u001b[38;5;124m\"\u001b[39m\u001b[38;5;124mFirst sentence tokens and their embeddings:\u001b[39m\u001b[38;5;124m\"\u001b[39m)\n",
      "Cell \u001b[0;32mIn[5], line 46\u001b[0m, in \u001b[0;36mget_bert_embeddings\u001b[0;34m(tokenized_sentences, tokenizer, model)\u001b[0m\n\u001b[1;32m     43\u001b[0m last_hidden_states \u001b[38;5;241m=\u001b[39m outputs\u001b[38;5;241m.\u001b[39mlast_hidden_state\u001b[38;5;241m.\u001b[39msqueeze(\u001b[38;5;241m0\u001b[39m)  \u001b[38;5;66;03m# Remove the batch dimension\u001b[39;00m\n\u001b[1;32m     45\u001b[0m \u001b[38;5;66;03m# Align tokens and their embeddings\u001b[39;00m\n\u001b[0;32m---> 46\u001b[0m word_ids \u001b[38;5;241m=\u001b[39m inputs\u001b[38;5;241m.\u001b[39mword_ids()\n\u001b[1;32m     47\u001b[0m token_embeddings \u001b[38;5;241m=\u001b[39m {}\n\u001b[1;32m     48\u001b[0m \u001b[38;5;28;01mfor\u001b[39;00m idx, word_id \u001b[38;5;129;01min\u001b[39;00m \u001b[38;5;28menumerate\u001b[39m(word_ids):\n",
      "File \u001b[0;32m~/anaconda3/lib/python3.11/site-packages/transformers/tokenization_utils_base.py:368\u001b[0m, in \u001b[0;36mBatchEncoding.word_ids\u001b[0;34m(self, batch_index)\u001b[0m\n\u001b[1;32m    356\u001b[0m \u001b[38;5;250m\u001b[39m\u001b[38;5;124;03m\"\"\"\u001b[39;00m\n\u001b[1;32m    357\u001b[0m \u001b[38;5;124;03mReturn a list mapping the tokens to their actual word in the initial sentence for a fast tokenizer.\u001b[39;00m\n\u001b[1;32m    358\u001b[0m \n\u001b[0;32m   (...)\u001b[0m\n\u001b[1;32m    365\u001b[0m \u001b[38;5;124;03m    (several tokens will be mapped to the same word index if they are parts of that word).\u001b[39;00m\n\u001b[1;32m    366\u001b[0m \u001b[38;5;124;03m\"\"\"\u001b[39;00m\n\u001b[1;32m    367\u001b[0m \u001b[38;5;28;01mif\u001b[39;00m \u001b[38;5;129;01mnot\u001b[39;00m \u001b[38;5;28mself\u001b[39m\u001b[38;5;241m.\u001b[39m_encodings:\n\u001b[0;32m--> 368\u001b[0m     \u001b[38;5;28;01mraise\u001b[39;00m \u001b[38;5;167;01mValueError\u001b[39;00m(\n\u001b[1;32m    369\u001b[0m         \u001b[38;5;124m\"\u001b[39m\u001b[38;5;124mword_ids() is not available when using non-fast tokenizers (e.g. instance of a `XxxTokenizerFast`\u001b[39m\u001b[38;5;124m\"\u001b[39m\n\u001b[1;32m    370\u001b[0m         \u001b[38;5;124m\"\u001b[39m\u001b[38;5;124m class).\u001b[39m\u001b[38;5;124m\"\u001b[39m\n\u001b[1;32m    371\u001b[0m     )\n\u001b[1;32m    372\u001b[0m \u001b[38;5;28;01mreturn\u001b[39;00m \u001b[38;5;28mself\u001b[39m\u001b[38;5;241m.\u001b[39m_encodings[batch_index]\u001b[38;5;241m.\u001b[39mword_ids\n",
      "\u001b[0;31mValueError\u001b[0m: word_ids() is not available when using non-fast tokenizers (e.g. instance of a `XxxTokenizerFast` class)."
     ]
    }
   ],
   "source": [
    "import nltk\n",
    "from nltk.tokenize import word_tokenize\n",
    "from transformers import BertTokenizer, BertModel\n",
    "import torch\n",
    "\n",
    "# Download necessary NLTK resources\n",
    "nltk.download('punkt')\n",
    "\n",
    "# Given sentences\n",
    "sentences = [\n",
    "    \"The client received the Invoice via email and promptly processed the payment.\",\n",
    "    \"After completing the project, the freelance graphic designer sent an Invoice to the marketing agency.\",\n",
    "    \"We noticed a discrepancy on the Invoice, so we contacted customer support for clarification.\",\n",
    "    \"The Invoice for the office supplies was due on the 15th of the month, but it was paid early.\",\n",
    "    \"The accounting department is responsible for managing and archiving all company Invoices.\",\n",
    "    \"Jane carefully reviewed each line item on the Invoice to ensure there were no overcharges.\",\n",
    "    \"The vendor issued a revised Invoice after correcting the error in the initial billing.\",\n",
    "    \"To maintain a smooth cash flow, the company ensures all Invoices are sent out promptly after services are rendered.\",\n",
    "    \"The automated system generates an Invoice immediately after an online purchase is made.\",\n",
    "    \"Before filing taxes, the small business owner meticulously organized every Invoice from the past year.\",\n",
    "    \"CA-22 Invoice-3334AD# Date Time\"\n",
    "]\n",
    "\n",
    "# Tokenize each sentence using NLTK\n",
    "tokenized_sentences = [word_tokenize(sentence) for sentence in sentences]\n",
    "\n",
    "# Load pre-trained BERT model and tokenizer\n",
    "tokenizer = BertTokenizer.from_pretrained('bert-base-uncased')\n",
    "model = BertModel.from_pretrained('bert-base-uncased')\n",
    "\n",
    "# Function to get BERT embeddings\n",
    "def get_bert_embeddings(tokenized_sentences, tokenizer, model):\n",
    "    embeddings = []\n",
    "    for sentence_tokens in tokenized_sentences:\n",
    "        # Tokenize the sentence with BERT tokenizer\n",
    "        inputs = tokenizer(sentence_tokens, return_tensors='pt', is_split_into_words=True, padding=True, truncation=True)\n",
    "        \n",
    "        # Get the BERT model's output\n",
    "        with torch.no_grad():\n",
    "            outputs = model(**inputs)\n",
    "        \n",
    "        # Get the embeddings for each token\n",
    "        last_hidden_states = outputs.last_hidden_state.squeeze(0)  # Remove the batch dimension\n",
    "        \n",
    "        # Align tokens and their embeddings\n",
    "        word_ids = inputs.word_ids()\n",
    "        token_embeddings = {}\n",
    "        for idx, word_id in enumerate(word_ids):\n",
    "            if word_id is not None:\n",
    "                word = sentence_tokens[word_id]\n",
    "                if word not in token_embeddings:\n",
    "                    token_embeddings[word] = []\n",
    "                token_embeddings[word].append(last_hidden_states[idx].numpy())\n",
    "        \n",
    "        # Average embeddings for tokens split into multiple word pieces\n",
    "        averaged_embeddings = {word: torch.tensor(embs).mean(dim=0).numpy() for word, embs in token_embeddings.items()}\n",
    "        embeddings.append(averaged_embeddings)\n",
    "    \n",
    "    return embeddings\n",
    "\n",
    "# Generate embeddings\n",
    "bert_embeddings = get_bert_embeddings(tokenized_sentences, tokenizer, model)\n",
    "\n",
    "# Display the embeddings for the first sentence as an example\n",
    "print(\"First sentence tokens and their embeddings:\")\n",
    "for token, embedding in bert_embeddings[0].items():\n",
    "    print(f\"Token: {token}\\nEmbedding: {embedding}\\n\")\n"
   ]
  },
  {
   "cell_type": "code",
   "execution_count": null,
   "id": "6644712e-72d5-4c54-b585-242e92eccec0",
   "metadata": {},
   "outputs": [],
   "source": []
  }
 ],
 "metadata": {
  "kernelspec": {
   "display_name": "Python 3 (ipykernel)",
   "language": "python",
   "name": "python3"
  },
  "language_info": {
   "codemirror_mode": {
    "name": "ipython",
    "version": 3
   },
   "file_extension": ".py",
   "mimetype": "text/x-python",
   "name": "python",
   "nbconvert_exporter": "python",
   "pygments_lexer": "ipython3",
   "version": "3.11.5"
  }
 },
 "nbformat": 4,
 "nbformat_minor": 5
}
