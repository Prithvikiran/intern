{
 "cells": [
  {
   "cell_type": "markdown",
   "id": "b61c479a-0423-4ed1-8752-971e7dba8620",
   "metadata": {},
   "source": [
    "ENTITY RULER"
   ]
  },
  {
   "cell_type": "code",
   "execution_count": 1,
   "id": "806b0a25-4e9d-4814-8a6a-a89d55fddb33",
   "metadata": {},
   "outputs": [],
   "source": [
    "import spacy \n",
    "from spacy import displacy\n",
    "nlp=spacy.load('en_core_web_sm')"
   ]
  },
  {
   "cell_type": "code",
   "execution_count": 19,
   "id": "e8b961b3-4c77-462b-83f9-f8f51311e031",
   "metadata": {},
   "outputs": [
    {
     "name": "stdout",
     "output_type": "stream",
     "text": [
      "3.7.4\n"
     ]
    }
   ],
   "source": [
    "print(spacy.__version__)"
   ]
  },
  {
   "cell_type": "code",
   "execution_count": 18,
   "id": "eeee7b82-90fe-48a9-9e91-c36ada98a849",
   "metadata": {},
   "outputs": [
    {
     "name": "stdout",
     "output_type": "stream",
     "text": [
      "Requirement already satisfied: spacy in /Users/prithvikiran/anaconda3/lib/python3.11/site-packages (3.7.4)\n",
      "Requirement already satisfied: spacy-legacy<3.1.0,>=3.0.11 in /Users/prithvikiran/anaconda3/lib/python3.11/site-packages (from spacy) (3.0.12)\n",
      "Requirement already satisfied: spacy-loggers<2.0.0,>=1.0.0 in /Users/prithvikiran/anaconda3/lib/python3.11/site-packages (from spacy) (1.0.5)\n",
      "Requirement already satisfied: murmurhash<1.1.0,>=0.28.0 in /Users/prithvikiran/anaconda3/lib/python3.11/site-packages (from spacy) (1.0.10)\n",
      "Requirement already satisfied: cymem<2.1.0,>=2.0.2 in /Users/prithvikiran/anaconda3/lib/python3.11/site-packages (from spacy) (2.0.8)\n",
      "Requirement already satisfied: preshed<3.1.0,>=3.0.2 in /Users/prithvikiran/anaconda3/lib/python3.11/site-packages (from spacy) (3.0.9)\n",
      "Requirement already satisfied: thinc<8.3.0,>=8.2.2 in /Users/prithvikiran/anaconda3/lib/python3.11/site-packages (from spacy) (8.2.3)\n",
      "Requirement already satisfied: wasabi<1.2.0,>=0.9.1 in /Users/prithvikiran/anaconda3/lib/python3.11/site-packages (from spacy) (1.1.2)\n",
      "Requirement already satisfied: srsly<3.0.0,>=2.4.3 in /Users/prithvikiran/anaconda3/lib/python3.11/site-packages (from spacy) (2.4.8)\n",
      "Requirement already satisfied: catalogue<2.1.0,>=2.0.6 in /Users/prithvikiran/anaconda3/lib/python3.11/site-packages (from spacy) (2.0.10)\n",
      "Requirement already satisfied: weasel<0.4.0,>=0.1.0 in /Users/prithvikiran/anaconda3/lib/python3.11/site-packages (from spacy) (0.3.4)\n",
      "Requirement already satisfied: typer<0.10.0,>=0.3.0 in /Users/prithvikiran/anaconda3/lib/python3.11/site-packages (from spacy) (0.9.4)\n",
      "Requirement already satisfied: smart-open<7.0.0,>=5.2.1 in /Users/prithvikiran/anaconda3/lib/python3.11/site-packages (from spacy) (5.2.1)\n",
      "Requirement already satisfied: tqdm<5.0.0,>=4.38.0 in /Users/prithvikiran/anaconda3/lib/python3.11/site-packages (from spacy) (4.65.0)\n",
      "Requirement already satisfied: requests<3.0.0,>=2.13.0 in /Users/prithvikiran/anaconda3/lib/python3.11/site-packages (from spacy) (2.31.0)\n",
      "Requirement already satisfied: pydantic!=1.8,!=1.8.1,<3.0.0,>=1.7.4 in /Users/prithvikiran/anaconda3/lib/python3.11/site-packages (from spacy) (1.10.12)\n",
      "Requirement already satisfied: jinja2 in /Users/prithvikiran/anaconda3/lib/python3.11/site-packages (from spacy) (3.1.2)\n",
      "Requirement already satisfied: setuptools in /Users/prithvikiran/anaconda3/lib/python3.11/site-packages (from spacy) (69.0.2)\n",
      "Requirement already satisfied: packaging>=20.0 in /Users/prithvikiran/anaconda3/lib/python3.11/site-packages (from spacy) (23.2)\n",
      "Requirement already satisfied: langcodes<4.0.0,>=3.2.0 in /Users/prithvikiran/anaconda3/lib/python3.11/site-packages (from spacy) (3.4.0)\n",
      "Requirement already satisfied: numpy>=1.19.0 in /Users/prithvikiran/anaconda3/lib/python3.11/site-packages (from spacy) (1.26.3)\n",
      "Requirement already satisfied: language-data>=1.2 in /Users/prithvikiran/anaconda3/lib/python3.11/site-packages (from langcodes<4.0.0,>=3.2.0->spacy) (1.2.0)\n",
      "Requirement already satisfied: typing-extensions>=4.2.0 in /Users/prithvikiran/anaconda3/lib/python3.11/site-packages (from pydantic!=1.8,!=1.8.1,<3.0.0,>=1.7.4->spacy) (4.9.0)\n",
      "Requirement already satisfied: charset-normalizer<4,>=2 in /Users/prithvikiran/anaconda3/lib/python3.11/site-packages (from requests<3.0.0,>=2.13.0->spacy) (2.0.4)\n",
      "Requirement already satisfied: idna<4,>=2.5 in /Users/prithvikiran/anaconda3/lib/python3.11/site-packages (from requests<3.0.0,>=2.13.0->spacy) (3.4)\n",
      "Requirement already satisfied: urllib3<3,>=1.21.1 in /Users/prithvikiran/anaconda3/lib/python3.11/site-packages (from requests<3.0.0,>=2.13.0->spacy) (1.26.18)\n",
      "Requirement already satisfied: certifi>=2017.4.17 in /Users/prithvikiran/anaconda3/lib/python3.11/site-packages (from requests<3.0.0,>=2.13.0->spacy) (2023.11.17)\n",
      "Requirement already satisfied: blis<0.8.0,>=0.7.8 in /Users/prithvikiran/anaconda3/lib/python3.11/site-packages (from thinc<8.3.0,>=8.2.2->spacy) (0.7.11)\n",
      "Requirement already satisfied: confection<1.0.0,>=0.0.1 in /Users/prithvikiran/anaconda3/lib/python3.11/site-packages (from thinc<8.3.0,>=8.2.2->spacy) (0.1.4)\n",
      "Requirement already satisfied: click<9.0.0,>=7.1.1 in /Users/prithvikiran/anaconda3/lib/python3.11/site-packages (from typer<0.10.0,>=0.3.0->spacy) (8.1.7)\n",
      "Requirement already satisfied: cloudpathlib<0.17.0,>=0.7.0 in /Users/prithvikiran/anaconda3/lib/python3.11/site-packages (from weasel<0.4.0,>=0.1.0->spacy) (0.16.0)\n",
      "Requirement already satisfied: MarkupSafe>=2.0 in /Users/prithvikiran/anaconda3/lib/python3.11/site-packages (from jinja2->spacy) (2.1.3)\n",
      "Requirement already satisfied: marisa-trie>=0.7.7 in /Users/prithvikiran/anaconda3/lib/python3.11/site-packages (from language-data>=1.2->langcodes<4.0.0,>=3.2.0->spacy) (1.1.1)\n"
     ]
    }
   ],
   "source": [
    "!pip install -U spacy"
   ]
  },
  {
   "cell_type": "code",
   "execution_count": 2,
   "id": "7e71ae72-40d4-4dc3-8b2d-fb2271d8223f",
   "metadata": {},
   "outputs": [
    {
     "data": {
      "text/plain": [
       "[('tok2vec', <spacy.pipeline.tok2vec.Tok2Vec at 0x1766620f0>),\n",
       " ('tagger', <spacy.pipeline.tagger.Tagger at 0x17651f5f0>),\n",
       " ('parser', <spacy.pipeline.dep_parser.DependencyParser at 0x1764ff840>),\n",
       " ('attribute_ruler',\n",
       "  <spacy.pipeline.attributeruler.AttributeRuler at 0x1767dbb10>),\n",
       " ('lemmatizer', <spacy.lang.en.lemmatizer.EnglishLemmatizer at 0x16c0c2110>),\n",
       " ('ner', <spacy.pipeline.ner.EntityRecognizer at 0x16a104510>)]"
      ]
     },
     "execution_count": 2,
     "metadata": {},
     "output_type": "execute_result"
    }
   ],
   "source": [
    "nlp.pipeline"
   ]
  },
  {
   "cell_type": "code",
   "execution_count": 3,
   "id": "7c7ce45c-03f7-499b-aaea-3d0e0aca8494",
   "metadata": {},
   "outputs": [],
   "source": [
    "ruler=nlp.add_pipe('entity_ruler')"
   ]
  },
  {
   "cell_type": "code",
   "execution_count": null,
   "id": "ace4d755-b89b-4bae-a8b3-e877e10e0ac6",
   "metadata": {},
   "outputs": [],
   "source": [
    "{\"label\": \"PHONE_NUMBER\", \"pattern\": [{\"ORTH\": \"(\"}, {\"SHAPE\": \"ddd\"}, {\"ORTH\": \")\"}, {\"SHAPE\": \"ddd\"},\n",
    "     {\"ORTH\": \"-\", \"OP\": \"?\"}, {\"SHAPE\": \"dddd\"}]},\n",
    "    {\"label\":\"ID\",\"pattern\":\"#123#\"},\n",
    "    {\"label\":\"ID\",\"pattern\":\"#342#\"},\n",
    "    {\"label\":\"ID\",\"pattern\":\"#456#\"},\n",
    "    {\"label\":\"ID\",\"pattern\":\"#135#\"},\n",
    "    {\"label\":\"SEC\",\"pattern\":\"IPL\"},\n",
    "    {\"label\":\"INDIA\", \"pattern\": [{\"ORTH\": \"+91\"}, {\"SHAPE\": \"-ddd ddd dddd\"}]},\n",
    "    {\"label\":\"USA\",\"pattern\":\"+91\"},"
   ]
  },
  {
   "cell_type": "code",
   "execution_count": 15,
   "id": "ec50bc8c-152b-4c77-858f-28b332d18bb7",
   "metadata": {},
   "outputs": [],
   "source": [
    "patterns=[\n",
    "     {\"label\": \"AirLineCode\", \"pattern\": [{\"TEXT\": {\"REGEX\": \"^[A-Z]{2}\\d{4}$\"}}]}\n",
    "\n",
    "]\n",
    "\n",
    "ruler.add_patterns(patterns)"
   ]
  },
  {
   "cell_type": "code",
   "execution_count": 16,
   "id": "dda1b629-5484-4bd4-a8a3-d6dfcb596e0d",
   "metadata": {},
   "outputs": [],
   "source": [
    "text=nlp(\"PRITHVI KIRAN ON ROLL CALL #123#\")\n",
    "text_1=nlp(\"Hi this IPL 2025, toll free: +91-9445064064\")\n",
    "text_2=nlp(\"This is a sample number (555) 555-5555.\")\n",
    "text_3=nlp(\"Hi welcome to AI50000 , this is captain pk \")"
   ]
  },
  {
   "cell_type": "code",
   "execution_count": 17,
   "id": "34121cff-5a17-41af-af68-e01f51bed61d",
   "metadata": {},
   "outputs": [
    {
     "name": "stdout",
     "output_type": "stream",
     "text": [
      "AI50000 PRODUCT\n"
     ]
    }
   ],
   "source": [
    "for ent in text_3.ents:\n",
    "    print(ent.text, ent.label_)"
   ]
  },
  {
   "cell_type": "markdown",
   "id": "5508380e-2e0d-4240-bb86-4171d2840adc",
   "metadata": {},
   "source": [
    "The EntityRuler is added to the pipeline. It allows for rule-based entity recognition using patterns."
   ]
  },
  {
   "cell_type": "code",
   "execution_count": 22,
   "id": "5d8b1571-1239-4913-a4e2-f31bbca17504",
   "metadata": {
    "scrolled": true
   },
   "outputs": [
    {
     "ename": "TypeError",
     "evalue": "string indices must be integers, not 'str'",
     "output_type": "error",
     "traceback": [
      "\u001b[0;31m---------------------------------------------------------------------------\u001b[0m",
      "\u001b[0;31mTypeError\u001b[0m                                 Traceback (most recent call last)",
      "Cell \u001b[0;32mIn[22], line 22\u001b[0m\n\u001b[1;32m      6\u001b[0m ruler \u001b[38;5;241m=\u001b[39m nlp\u001b[38;5;241m.\u001b[39madd_pipe(\u001b[38;5;124m\"\u001b[39m\u001b[38;5;124mentity_ruler\u001b[39m\u001b[38;5;124m\"\u001b[39m,)\n\u001b[1;32m      8\u001b[0m patterns \u001b[38;5;241m=\u001b[39m [\n\u001b[1;32m      9\u001b[0m     {\u001b[38;5;124m\"\u001b[39m\u001b[38;5;124mlabel\u001b[39m\u001b[38;5;124m\"\u001b[39m: \u001b[38;5;124m\"\u001b[39m\u001b[38;5;124mINDIA\u001b[39m\u001b[38;5;124m\"\u001b[39m, \u001b[38;5;124m\"\u001b[39m\u001b[38;5;124mpattern\u001b[39m\u001b[38;5;124m\"\u001b[39m: [{\u001b[38;5;124m\"\u001b[39m\u001b[38;5;124mORTH\u001b[39m\u001b[38;5;124m\"\u001b[39m: \u001b[38;5;124m\"\u001b[39m\u001b[38;5;124m+91\u001b[39m\u001b[38;5;124m\"\u001b[39m}, {\u001b[38;5;124m\"\u001b[39m\u001b[38;5;124mSHAPE\u001b[39m\u001b[38;5;124m\"\u001b[39m: \u001b[38;5;124m\"\u001b[39m\u001b[38;5;124mdddddddddd\u001b[39m\u001b[38;5;124m\"\u001b[39m}]},\n\u001b[1;32m     10\u001b[0m     {\u001b[38;5;124m\"\u001b[39m\u001b[38;5;124mlabel\u001b[39m\u001b[38;5;124m\"\u001b[39m: \u001b[38;5;124m\"\u001b[39m\u001b[38;5;124mUSA or CANADA\u001b[39m\u001b[38;5;124m\"\u001b[39m, \u001b[38;5;124m\"\u001b[39m\u001b[38;5;124mpattern\u001b[39m\u001b[38;5;124m\"\u001b[39m: [{\u001b[38;5;124m\"\u001b[39m\u001b[38;5;124mORTH\u001b[39m\u001b[38;5;124m\"\u001b[39m: \u001b[38;5;124m\"\u001b[39m\u001b[38;5;124m+1\u001b[39m\u001b[38;5;124m\"\u001b[39m}, {\u001b[38;5;124m\"\u001b[39m\u001b[38;5;124mSHAPE\u001b[39m\u001b[38;5;124m\"\u001b[39m: \u001b[38;5;124m\"\u001b[39m\u001b[38;5;124mddddddddd\u001b[39m\u001b[38;5;124m\"\u001b[39m}]},\n\u001b[0;32m   (...)\u001b[0m\n\u001b[1;32m     19\u001b[0m \u001b[38;5;124;03m    \"\"\"\u001b[39;00m\n\u001b[1;32m     20\u001b[0m ]\n\u001b[0;32m---> 22\u001b[0m ruler\u001b[38;5;241m.\u001b[39madd_patterns(patterns)\n\u001b[1;32m     23\u001b[0m doc \u001b[38;5;241m=\u001b[39m nlp(text)\n\u001b[1;32m     25\u001b[0m \u001b[38;5;28;01mfor\u001b[39;00m ent \u001b[38;5;129;01min\u001b[39;00m doc\u001b[38;5;241m.\u001b[39ments:\n",
      "File \u001b[0;32m~/anaconda3/lib/python3.11/site-packages/spacy/pipeline/entityruler.py:313\u001b[0m, in \u001b[0;36mEntityRuler.add_patterns\u001b[0;34m(self, patterns)\u001b[0m\n\u001b[1;32m    311\u001b[0m phrase_pattern_ids \u001b[38;5;241m=\u001b[39m []\n\u001b[1;32m    312\u001b[0m \u001b[38;5;28;01mfor\u001b[39;00m entry \u001b[38;5;129;01min\u001b[39;00m patterns:\n\u001b[0;32m--> 313\u001b[0m     \u001b[38;5;28;01mif\u001b[39;00m \u001b[38;5;28misinstance\u001b[39m(entry[\u001b[38;5;124m\"\u001b[39m\u001b[38;5;124mpattern\u001b[39m\u001b[38;5;124m\"\u001b[39m], \u001b[38;5;28mstr\u001b[39m):\n\u001b[1;32m    314\u001b[0m         phrase_pattern_labels\u001b[38;5;241m.\u001b[39mappend(entry[\u001b[38;5;124m\"\u001b[39m\u001b[38;5;124mlabel\u001b[39m\u001b[38;5;124m\"\u001b[39m])\n\u001b[1;32m    315\u001b[0m         phrase_pattern_texts\u001b[38;5;241m.\u001b[39mappend(entry[\u001b[38;5;124m\"\u001b[39m\u001b[38;5;124mpattern\u001b[39m\u001b[38;5;124m\"\u001b[39m])\n",
      "\u001b[0;31mTypeError\u001b[0m: string indices must be integers, not 'str'"
     ]
    }
   ],
   "source": [
    "import spacy\n",
    "\n",
    "text = \"Prithvi kiran : +91 7550070811, pk : +1 7864453222\"\n",
    "nlp = spacy.blank(\"en\")\n",
    "\n",
    "ruler = nlp.add_pipe(\"entity_ruler\",)\n",
    "\n",
    "patterns = [\n",
    "\n",
    "  \n",
    "    \"\"\"\n",
    "    {\"label\": \"UK\", \"pattern\": [{\"ORTH\": \"+44\"}, {\"SHAPE\": \"dddddddddd\"}]},\n",
    "    {\"label\": \"Australia\", \"pattern\": [{\"ORTH\": \"+61\"}, {\"SHAPE\": \"dddddddddd\"}]},\n",
    "    {\"label\": \"China\", \"pattern\": [{\"ORTH\": \"+86\"}, {\"SHAPE\": \"dddddddddd\"}]},\n",
    "    {\"label\": \"Germany\", \"pattern\": [{\"ORTH\": \"+49\"}, {\"SHAPE\": \"dddddddddd\"}]},\n",
    "    {\"label\": \"France\", \"pattern\": [{\"ORTH\": \"+33\"}, {\"SHAPE\": \"dddddddddd\"}]},\n",
    "    {\"label\": \"Japan\", \"pattern\": [{\"ORTH\": \"+81\"}, {\"SHAPE\": \"dddddddddd\"}]},\n",
    "    {\"label\": \"Brazil\", \"pattern\": [{\"ORTH\": \"+55\"}, {\"SHAPE\": \"dddddddddd\"}]}\n",
    "    \"\"\"\n",
    "]\n",
    "\n",
    "ruler.add_patterns(patterns)\n",
    "doc = nlp(text)\n",
    "\n",
    "for ent in doc.ents:\n",
    "    print(ent.text, ent.label_)\n"
   ]
  },
  {
   "cell_type": "code",
   "execution_count": null,
   "id": "0ba7418b-0ae0-4c5a-a621-cdd77a8134bb",
   "metadata": {},
   "outputs": [],
   "source": [
    "Sure, here are some examples of phone numbers for various countries, including the country code:\n",
    "\n",
    "1. **United States**:\n",
    "   - Example: +1 202-555-0123\n",
    "   - Country Code: +1\n",
    "\n",
    "2. **Canada**:\n",
    "   - Example: +1 416-555-0123\n",
    "   - Country Code: +1\n",
    "\n",
    "3. **United Kingdom**:\n",
    "   - Example: +44 20 7946 0958\n",
    "   - Country Code: +44\n",
    "\n",
    "4. **Australia**:\n",
    "   - Example: +61 2 9374 4000\n",
    "   - Country Code: +61\n",
    "\n",
    "5. **India**:\n",
    "   - Example: +91 22 2772 3456\n",
    "   - Country Code: +91\n",
    "\n",
    "6. **China**:\n",
    "   - Example: +86 10 6655 1234\n",
    "   - Country Code: +86\n",
    "\n",
    "7. **Germany**:\n",
    "   - Example: +49 30 123456\n",
    "   - Country Code: +49\n",
    "\n",
    "8. **France**:\n",
    "   - Example: +33 1 44 11 22 33\n",
    "   - Country Code: +33\n",
    "\n",
    "9. **Japan**:\n",
    "   - Example: +81 3-1234-5678\n",
    "   - Country Code: +81\n",
    "\n",
    "10. **Brazil**:\n",
    "    - Example: +55 11 2345-6789\n",
    "    - Country Code: +55\n",
    "\n",
    "These examples illustrate the format typically used for phone numbers in each country, including the necessary country code."
   ]
  },
  {
   "cell_type": "markdown",
   "id": "9dadd231-84d2-4cdd-bb1e-7deb671541e1",
   "metadata": {},
   "source": [
    "# MATCHER #"
   ]
  },
  {
   "cell_type": "code",
   "execution_count": 7,
   "id": "c63fa68f-236f-4068-af97-cf2a3cf5418a",
   "metadata": {},
   "outputs": [],
   "source": [
    "from spacy.matcher import Matcher\n",
    "nlp = spacy.load(\"en_core_web_sm\")"
   ]
  },
  {
   "cell_type": "code",
   "execution_count": 8,
   "id": "8a9a7858-315c-4057-b9ce-3cbdf7bf147a",
   "metadata": {},
   "outputs": [
    {
     "name": "stdout",
     "output_type": "stream",
     "text": [
      "[(16571425990740197027, 6, 7)]\n"
     ]
    }
   ],
   "source": [
    "matcher = Matcher(nlp.vocab)\n",
    "pattern = [{\"LIKE_EMAIL\": True}]  \n",
    "matcher.add(\"EMAIL_ADDRESS\", [pattern]) \n",
    "doc = nlp(\"This is an email address: wmattingly@aol.com\")\n",
    "matches = matcher(doc)\n",
    "print (matches)"
   ]
  },
  {
   "cell_type": "code",
   "execution_count": 9,
   "id": "2527eda8-c6dc-47a8-90f7-3843515208e9",
   "metadata": {},
   "outputs": [
    {
     "name": "stdout",
     "output_type": "stream",
     "text": [
      "EMAIL_ADDRESS\n"
     ]
    }
   ],
   "source": [
    "print (nlp.vocab[matches[0][0]].text)"
   ]
  },
  {
   "cell_type": "markdown",
   "id": "d4f822ab-e090-49dd-991e-a7f25cc520ec",
   "metadata": {},
   "source": [
    "# REGEX # "
   ]
  },
  {
   "cell_type": "code",
   "execution_count": 10,
   "id": "10612876-3f01-48a5-83fe-4407c40ed4ab",
   "metadata": {},
   "outputs": [],
   "source": [
    "import re"
   ]
  },
  {
   "cell_type": "code",
   "execution_count": 11,
   "id": "25274e9e-a9e9-447f-823c-873abf0fc8b8",
   "metadata": {},
   "outputs": [
    {
     "name": "stdout",
     "output_type": "stream",
     "text": [
      "[('2 February', '2', 'February'), ('14 August', '4', 'August')]\n"
     ]
    }
   ],
   "source": [
    "pattern = r\"((\\d){1,2} (January|February|March|April|May|June|July|August|September|October|November|December))\"\n",
    "text = \"This is a date 2 February. Another date would be 14 August.\"\n",
    "matches = re.findall(pattern, text)\n",
    "print (matches)"
   ]
  },
  {
   "cell_type": "code",
   "execution_count": 13,
   "id": "20df2afe-d995-4999-b15d-951deb96755a",
   "metadata": {
    "scrolled": true
   },
   "outputs": [
    {
     "name": "stdout",
     "output_type": "stream",
     "text": [
      "['AA1233']\n",
      "['EE2145']\n",
      "['WQ3310']\n",
      "[]\n"
     ]
    }
   ],
   "source": [
    "import re\n",
    "pattern = re.compile(r'^[A-Z]{2}\\d{1,4}$')\n",
    "text=['AA1233','EE2145','WQ3310','TTT9RR']\n",
    "for i in text:\n",
    "    m=re.findall(pattern,i)\n",
    "    print(m)\n",
    "\n",
    "\n"
   ]
  },
  {
   "cell_type": "code",
   "execution_count": 20,
   "id": "cd6e22c7-1fd3-450b-a9b7-2497e2cc6805",
   "metadata": {},
   "outputs": [
    {
     "name": "stdout",
     "output_type": "stream",
     "text": [
      "\u001b[38;5;3m⚠ To generate a more effective transformer-based config (GPU-only),\n",
      "install the spacy-transformers package and re-run this command. The config\n",
      "generated now does not use transformers.\u001b[0m\n",
      "\u001b[38;5;4mℹ Generated config template specific for your use case\u001b[0m\n",
      "- Language: en\n",
      "- Pipeline: ner\n",
      "- Optimize for: efficiency\n",
      "- Hardware: CPU\n",
      "- Transformer: None\n",
      "\u001b[38;5;2m✔ Auto-filled config with all values\u001b[0m\n",
      "\u001b[38;5;2m✔ Saved config\u001b[0m\n",
      "configs/config.cfg\n",
      "You can now add your data and train your pipeline:\n",
      "python -m spacy train config.cfg --paths.train ./train.spacy --paths.dev ./dev.spacy\n"
     ]
    }
   ],
   "source": [
    "!python -m spacy init config configs/config.cfg --lang en --pipeline ner"
   ]
  },
  {
   "cell_type": "code",
   "execution_count": 21,
   "id": "4601d5fa-a94c-456a-bd79-ad1122edc47c",
   "metadata": {
    "scrolled": true
   },
   "outputs": [
    {
     "name": "stdout",
     "output_type": "stream",
     "text": [
      "[paths]\n",
      "train = null\n",
      "dev = null\n",
      "vectors = null\n",
      "init_tok2vec = null\n",
      "\n",
      "[system]\n",
      "gpu_allocator = null\n",
      "seed = 0\n",
      "\n",
      "[nlp]\n",
      "lang = \"en\"\n",
      "pipeline = [\"tok2vec\",\"ner\"]\n",
      "batch_size = 1000\n",
      "disabled = []\n",
      "before_creation = null\n",
      "after_creation = null\n",
      "after_pipeline_creation = null\n",
      "tokenizer = {\"@tokenizers\":\"spacy.Tokenizer.v1\"}\n",
      "vectors = {\"@vectors\":\"spacy.Vectors.v1\"}\n",
      "\n",
      "[components]\n",
      "\n",
      "[components.ner]\n",
      "factory = \"ner\"\n",
      "incorrect_spans_key = null\n",
      "moves = null\n",
      "scorer = {\"@scorers\":\"spacy.ner_scorer.v1\"}\n",
      "update_with_oracle_cut_size = 100\n",
      "\n",
      "[components.ner.model]\n",
      "@architectures = \"spacy.TransitionBasedParser.v2\"\n",
      "state_type = \"ner\"\n",
      "extra_state_tokens = false\n",
      "hidden_width = 64\n",
      "maxout_pieces = 2\n",
      "use_upper = true\n",
      "nO = null\n",
      "\n",
      "[components.ner.model.tok2vec]\n",
      "@architectures = \"spacy.Tok2VecListener.v1\"\n",
      "width = ${components.tok2vec.model.encode.width}\n",
      "upstream = \"*\"\n",
      "\n",
      "[components.tok2vec]\n",
      "factory = \"tok2vec\"\n",
      "\n",
      "[components.tok2vec.model]\n",
      "@architectures = \"spacy.Tok2Vec.v2\"\n",
      "\n",
      "[components.tok2vec.model.embed]\n",
      "@architectures = \"spacy.MultiHashEmbed.v2\"\n",
      "width = ${components.tok2vec.model.encode.width}\n",
      "attrs = [\"NORM\",\"PREFIX\",\"SUFFIX\",\"SHAPE\"]\n",
      "rows = [5000,1000,2500,2500]\n",
      "include_static_vectors = false\n",
      "\n",
      "[components.tok2vec.model.encode]\n",
      "@architectures = \"spacy.MaxoutWindowEncoder.v2\"\n",
      "width = 96\n",
      "depth = 4\n",
      "window_size = 1\n",
      "maxout_pieces = 3\n",
      "\n",
      "[corpora]\n",
      "\n",
      "[corpora.dev]\n",
      "@readers = \"spacy.Corpus.v1\"\n",
      "path = ${paths.dev}\n",
      "max_length = 0\n",
      "gold_preproc = false\n",
      "limit = 0\n",
      "augmenter = null\n",
      "\n",
      "[corpora.train]\n",
      "@readers = \"spacy.Corpus.v1\"\n",
      "path = ${paths.train}\n",
      "max_length = 0\n",
      "gold_preproc = false\n",
      "limit = 0\n",
      "augmenter = null\n",
      "\n",
      "[training]\n",
      "dev_corpus = \"corpora.dev\"\n",
      "train_corpus = \"corpora.train\"\n",
      "seed = ${system.seed}\n",
      "gpu_allocator = ${system.gpu_allocator}\n",
      "dropout = 0.1\n",
      "accumulate_gradient = 1\n",
      "patience = 1600\n",
      "max_epochs = 0\n",
      "max_steps = 20000\n",
      "eval_frequency = 200\n",
      "frozen_components = []\n",
      "annotating_components = []\n",
      "before_to_disk = null\n",
      "before_update = null\n",
      "\n",
      "[training.batcher]\n",
      "@batchers = \"spacy.batch_by_words.v1\"\n",
      "discard_oversize = false\n",
      "tolerance = 0.2\n",
      "get_length = null\n",
      "\n",
      "[training.batcher.size]\n",
      "@schedules = \"compounding.v1\"\n",
      "start = 100\n",
      "stop = 1000\n",
      "compound = 1.001\n",
      "t = 0.0\n",
      "\n",
      "[training.logger]\n",
      "@loggers = \"spacy.ConsoleLogger.v1\"\n",
      "progress_bar = false\n",
      "\n",
      "[training.optimizer]\n",
      "@optimizers = \"Adam.v1\"\n",
      "beta1 = 0.9\n",
      "beta2 = 0.999\n",
      "L2_is_weight_decay = true\n",
      "L2 = 0.01\n",
      "grad_clip = 1.0\n",
      "use_averages = false\n",
      "eps = 0.00000001\n",
      "learn_rate = 0.001\n",
      "\n",
      "[training.score_weights]\n",
      "ents_f = 1.0\n",
      "ents_p = 0.0\n",
      "ents_r = 0.0\n",
      "ents_per_type = null\n",
      "\n",
      "[pretraining]\n",
      "\n",
      "[initialize]\n",
      "vectors = ${paths.vectors}\n",
      "init_tok2vec = ${paths.init_tok2vec}\n",
      "vocab_data = null\n",
      "lookups = null\n",
      "before_init = null\n",
      "after_init = null\n",
      "\n",
      "[initialize.components]\n",
      "\n",
      "[initialize.tokenizer]"
     ]
    }
   ],
   "source": [
    "!cat configs/config.cfg"
   ]
  },
  {
   "cell_type": "code",
   "execution_count": 22,
   "id": "667f2b6b-2138-4836-a25f-c806bc4e6aef",
   "metadata": {},
   "outputs": [],
   "source": [
    "patterns=[\n",
    "\n",
    "    \n",
    "]\n",
    "   "
   ]
  },
  {
   "cell_type": "code",
   "execution_count": 8,
   "id": "7fee4448-d219-42dd-b89f-5390a7c2c9d9",
   "metadata": {},
   "outputs": [],
   "source": [
    "text= \"Hi welcome to AIRE500 , this is captain pk \""
   ]
  },
  {
   "cell_type": "code",
   "execution_count": 9,
   "id": "8eba449f-6d8a-4160-adea-9b168522b0f3",
   "metadata": {},
   "outputs": [],
   "source": [
    "import spacy\n",
    "nlp=spacy.load('en_core_web_sm')\n",
    "ruler = nlp.add_pipe(\"entity_ruler\")\n",
    "patterns = [\n",
    "               {\"label\": \"AirlineCode\", \"pattern\": r\"^[A-Z]{4}\\d{3}$\"},\n",
    "               \n",
    "    {\"label\":\"ID\",\"pattern\":\"#123#\"},\n",
    "    {\"label\":\"ID\",\"pattern\":\"#342#\"},\n",
    "    {\"label\":\"ID\",\"pattern\":\"#456#\"},\n",
    "    {\"label\":\"ID\",\"pattern\":\"#135#\"},\n",
    "    {\"label\":\"SEC\",\"pattern\":\"IPL\"},\n",
    "    {\"label\": \"INDIA\", \"pattern\": [{\"ORTH\": \"+91\"}, {\"SHAPE\": \"dddddddddd\"}]},\n",
    "    {\"label\": \"USA or CANADA\", \"pattern\": [{\"ORTH\": \"+1\"}, {\"SHAPE\": \"ddddddddd\"}]}\n",
    "    \n",
    "    \n",
    "            ]\n",
    "ruler.add_patterns(patterns)\n",
    "doc = nlp(text)\n",
    "\n",
    "for ent in doc.ents:\n",
    "    print (ent.text, ent.label_)"
   ]
  },
  {
   "cell_type": "code",
   "execution_count": 24,
   "id": "f6284a27-384f-4b14-a635-86f882811a84",
   "metadata": {},
   "outputs": [
    {
     "name": "stdout",
     "output_type": "stream",
     "text": [
      "No match found.\n"
     ]
    }
   ],
   "source": [
    "import re\n",
    "\n",
    "pattern = r\"^[A-Z]{2}\\d{3}$\"\n",
    "text = \"AB1234\"\n",
    "\n",
    "match = re.match(pattern, text)\n",
    "if match:\n",
    "    print(\"Match found!\")\n",
    "else:\n",
    "    print(\"No match found.\")\n"
   ]
  },
  {
   "cell_type": "code",
   "execution_count": null,
   "id": "63a35bc0-f5c5-4ab4-9e07-a9b6f0a4c9a3",
   "metadata": {},
   "outputs": [],
   "source": []
  }
 ],
 "metadata": {
  "kernelspec": {
   "display_name": "Python 3 (ipykernel)",
   "language": "python",
   "name": "python3"
  },
  "language_info": {
   "codemirror_mode": {
    "name": "ipython",
    "version": 3
   },
   "file_extension": ".py",
   "mimetype": "text/x-python",
   "name": "python",
   "nbconvert_exporter": "python",
   "pygments_lexer": "ipython3",
   "version": "3.11.5"
  }
 },
 "nbformat": 4,
 "nbformat_minor": 5
}
