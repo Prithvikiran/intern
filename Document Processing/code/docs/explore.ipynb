{
 "cells": [
  {
   "cell_type": "code",
   "execution_count": 3,
   "id": "c48309b6-1b9c-4e55-a472-8a7e21a96b75",
   "metadata": {},
   "outputs": [],
   "source": [
    "import pandas as pd\n",
    "import json\n",
    "import os"
   ]
  },
  {
   "cell_type": "markdown",
   "id": "4b53b515-ee8f-4d6e-9360-5529f2594788",
   "metadata": {},
   "source": [
    "Each page in the document \"GOOD QUALITY PAGES \" HAS BEEN CONVERTED TO A JSON "
   ]
  },
  {
   "cell_type": "code",
   "execution_count": 5,
   "id": "9505baa3-90ea-4c8e-b67e-ac34c5011ab7",
   "metadata": {},
   "outputs": [],
   "source": [
    "!cd"
   ]
  },
  {
   "cell_type": "code",
   "execution_count": 6,
   "id": "9c5ae138-133e-402d-8fb4-37ae2e8f9c29",
   "metadata": {},
   "outputs": [
    {
     "name": "stdout",
     "output_type": "stream",
     "text": [
      "/Users/prithvikiran/desktop/docs\n"
     ]
    }
   ],
   "source": [
    "!pwd"
   ]
  },
  {
   "cell_type": "code",
   "execution_count": 7,
   "id": "566b3f96-8062-4bab-a785-0a8d5796ab55",
   "metadata": {},
   "outputs": [
    {
     "name": "stdout",
     "output_type": "stream",
     "text": [
      "\u001b[34mGOOD QUALITY PAGES  (2)\u001b[m\u001b[m GOOD QUALITY PAGES .pdf explore.ipynb\n"
     ]
    }
   ],
   "source": [
    "!ls"
   ]
  },
  {
   "cell_type": "code",
   "execution_count": 8,
   "id": "34b664c1-6d9c-4a28-b563-25ec3f750c88",
   "metadata": {},
   "outputs": [
    {
     "name": "stdout",
     "output_type": "stream",
     "text": [
      "ls: GOOD_QUALITY_PAGES: No such file or directory\n"
     ]
    }
   ],
   "source": [
    "!ls GOOD_QUALITY_PAGES"
   ]
  },
  {
   "cell_type": "code",
   "execution_count": 10,
   "id": "1da3db87-d1bf-4b0b-a7db-c41f54c1b906",
   "metadata": {},
   "outputs": [
    {
     "name": "stdout",
     "output_type": "stream",
     "text": [
      "GOOD QUALITY PAGES .pdf \u001b[34mGOOD_QUALITY_PAGES  (2)\u001b[m\u001b[m explore.ipynb\n"
     ]
    }
   ],
   "source": [
    "!ls"
   ]
  },
  {
   "cell_type": "code",
   "execution_count": 11,
   "id": "db485ab3-c4c1-43aa-924a-4f60fb3ae6b0",
   "metadata": {},
   "outputs": [
    {
     "name": "stdout",
     "output_type": "stream",
     "text": [
      "/Users/prithvikiran/desktop/docs\n"
     ]
    }
   ],
   "source": [
    "!pwd"
   ]
  },
  {
   "cell_type": "code",
   "execution_count": 12,
   "id": "6f6dc318-0866-4dea-8b8d-52e7fca41838",
   "metadata": {},
   "outputs": [
    {
     "name": "stdout",
     "output_type": "stream",
     "text": [
      "zsh:cd:1: no such file or directory: GOOD_QUALITY_PAGES\n"
     ]
    }
   ],
   "source": [
    "!cd GOOD_QUALITY_PAGES\n"
   ]
  },
  {
   "cell_type": "code",
   "execution_count": 13,
   "id": "f1841c6c-0025-4685-bd2d-92bd76080116",
   "metadata": {},
   "outputs": [],
   "source": [
    "!cd GOOD_QUALITY_PAGES"
   ]
  },
  {
   "cell_type": "code",
   "execution_count": 16,
   "id": "7e4760af-5136-4f04-a765-bc4b0717e649",
   "metadata": {},
   "outputs": [
    {
     "name": "stdout",
     "output_type": "stream",
     "text": [
      "/Users/prithvikiran/desktop/docs\n"
     ]
    }
   ],
   "source": [
    "!pwd"
   ]
  },
  {
   "cell_type": "code",
   "execution_count": null,
   "id": "fba96fc0-a019-47df-b5a8-1afcd9cad0f8",
   "metadata": {},
   "outputs": [],
   "source": []
  }
 ],
 "metadata": {
  "kernelspec": {
   "display_name": "Python 3 (ipykernel)",
   "language": "python",
   "name": "python3"
  },
  "language_info": {
   "codemirror_mode": {
    "name": "ipython",
    "version": 3
   },
   "file_extension": ".py",
   "mimetype": "text/x-python",
   "name": "python",
   "nbconvert_exporter": "python",
   "pygments_lexer": "ipython3",
   "version": "3.11.5"
  }
 },
 "nbformat": 4,
 "nbformat_minor": 5
}
