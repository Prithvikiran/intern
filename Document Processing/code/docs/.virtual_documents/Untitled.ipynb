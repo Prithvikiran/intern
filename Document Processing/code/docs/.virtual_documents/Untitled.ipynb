import pandas as pd
import json
import os





!cd


!pwd


!ls


!ls GOOD_QUALITY_PAGES


!ls


!pwd


!cd GOOD_QUALITY_PAGES



!cd GOOD_QUALITY_PAGES


!pwd



