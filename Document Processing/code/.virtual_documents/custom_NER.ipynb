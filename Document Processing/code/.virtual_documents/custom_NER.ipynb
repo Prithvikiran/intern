!pip install spacy



!python -m spacy download en_core_web_sm


import spacy
nlp = spacy.load('en_core_web_sm')
text = "Apple is looking at buying U.K. startup for $1 bill"
doc = nlp(text)
for entity in doc.ents:
    print(entity.text, entity.label_)



print(doc.ents)





for _, annotations in TRAIN_DATA:
    for ent in annotations.get("entities"):
        ner.add_label(ent[2])



from spacy.language import Language
nlp = spacy.load('en_core_web_sm')
nlp.add_pipe('my_custom_component')


ner


import random
from spacy.training import Example
TRAIN_DATA = [
    ("Walmart is a leading e-commerce company", {"entities": [(0, 7, "ORG")]})
]

for _, annotations in TRAIN_DATA:
    for ent in annotations.get("entities"):
        doc.ents = [doc.vocab.strings[u"ORG"]]
        example = Example.from_dict(doc, {"entities": annotations.get("entities")})
        nlp.update([example], drop=0.5, losses={})


nlp.to_disk("/path/to/model")



