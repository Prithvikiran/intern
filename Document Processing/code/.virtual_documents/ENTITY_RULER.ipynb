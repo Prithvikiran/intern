


import spacy 
from spacy import displacy
nlp=spacy.load('en_core_web_sm')


print(spacy.__version__)


!pip install -U spacy


nlp.pipeline


ruler=nlp.add_pipe('entity_ruler')


{"label": "PHONE_NUMBER", "pattern": [{"ORTH": "("}, {"SHAPE": "ddd"}, {"ORTH": ")"}, {"SHAPE": "ddd"},
     {"ORTH": "-", "OP": "?"}, {"SHAPE": "dddd"}]},
    {"label":"ID","pattern":"#123#"},
    {"label":"ID","pattern":"#342#"},
    {"label":"ID","pattern":"#456#"},
    {"label":"ID","pattern":"#135#"},
    {"label":"SEC","pattern":"IPL"},
    {"label":"INDIA", "pattern": [{"ORTH": "+91"}, {"SHAPE": "-ddd ddd dddd"}]},
    {"label":"USA","pattern":"+91"},


patterns=[
     {"label": "AirLineCode", "pattern": [{"TEXT": {"REGEX": "^[A-Z]{2}\d{4}$"}}]}

]

ruler.add_patterns(patterns)


text=nlp("PRITHVI KIRAN ON ROLL CALL #123#")
text_1=nlp("Hi this IPL 2025, toll free: +91-9445064064")
text_2=nlp("This is a sample number (555) 555-5555.")
text_3=nlp("Hi welcome to AI50000 , this is captain pk ")


for ent in text_3.ents:
    print(ent.text, ent.label_)





import spacy

text = "Prithvi kiran : +91 7550070811, pk : +1 7864453222"
nlp = spacy.blank("en")

ruler = nlp.add_pipe("entity_ruler",)

patterns = [

  
    """
    {"label": "UK", "pattern": [{"ORTH": "+44"}, {"SHAPE": "dddddddddd"}]},
    {"label": "Australia", "pattern": [{"ORTH": "+61"}, {"SHAPE": "dddddddddd"}]},
    {"label": "China", "pattern": [{"ORTH": "+86"}, {"SHAPE": "dddddddddd"}]},
    {"label": "Germany", "pattern": [{"ORTH": "+49"}, {"SHAPE": "dddddddddd"}]},
    {"label": "France", "pattern": [{"ORTH": "+33"}, {"SHAPE": "dddddddddd"}]},
    {"label": "Japan", "pattern": [{"ORTH": "+81"}, {"SHAPE": "dddddddddd"}]},
    {"label": "Brazil", "pattern": [{"ORTH": "+55"}, {"SHAPE": "dddddddddd"}]}
    """
]

ruler.add_patterns(patterns)
doc = nlp(text)

for ent in doc.ents:
    print(ent.text, ent.label_)



Sure, here are some examples of phone numbers for various countries, including the country code:

1. **United States**:
   - Example: +1 202-555-0123
   - Country Code: +1

2. **Canada**:
   - Example: +1 416-555-0123
   - Country Code: +1

3. **United Kingdom**:
   - Example: +44 20 7946 0958
   - Country Code: +44

4. **Australia**:
   - Example: +61 2 9374 4000
   - Country Code: +61

5. **India**:
   - Example: +91 22 2772 3456
   - Country Code: +91

6. **China**:
   - Example: +86 10 6655 1234
   - Country Code: +86

7. **Germany**:
   - Example: +49 30 123456
   - Country Code: +49

8. **France**:
   - Example: +33 1 44 11 22 33
   - Country Code: +33

9. **Japan**:
   - Example: +81 3-1234-5678
   - Country Code: +81

10. **Brazil**:
    - Example: +55 11 2345-6789
    - Country Code: +55

These examples illustrate the format typically used for phone numbers in each country, including the necessary country code.





from spacy.matcher import Matcher
nlp = spacy.load("en_core_web_sm")


matcher = Matcher(nlp.vocab)
pattern = [{"LIKE_EMAIL": True}]  
matcher.add("EMAIL_ADDRESS", [pattern]) 
doc = nlp("This is an email address: wmattingly@aol.com")
matches = matcher(doc)
print (matches)


print (nlp.vocab[matches[0][0]].text)





import re


pattern = r"((\d){1,2} (January|February|March|April|May|June|July|August|September|October|November|December))"
text = "This is a date 2 February. Another date would be 14 August."
matches = re.findall(pattern, text)
print (matches)


import re
pattern = re.compile(r'^[A-Z]{2}\d{1,4}$')
text=['AA1233','EE2145','WQ3310','TTT9RR']
for i in text:
    m=re.findall(pattern,i)
    print(m)





!python -m spacy init config configs/config.cfg --lang en --pipeline ner


!cat configs/config.cfg


text= "Hi welcome to AIRE500 , this is captain pk.PRITHVI KIRAN ON ROLL CALL #123# "


import spacy
nlp=spacy.load('en_core_web_sm')
ruler = nlp.add_pipe("entity_ruler")
patterns = [
               {"label": "AirlineCode", "pattern": r"^[A-Z]{4}\d{3}$"},
               
    {"label":"ID","pattern":"#123#"},
    {"label":"ID","pattern":"#342#"},
    {"label":"ID","pattern":"#456#"},
    {"label":"ID","pattern":"#135#"},
    {"label":"SEC","pattern":"IPL"},
    {"label": "INDIA", "pattern": [{"ORTH": "+91"}, {"SHAPE": "dddddddddd"}]},
    {"label": "USA or CANADA", "pattern": [{"ORTH": "+1"}, {"SHAPE": "ddddddddd"}]}
    
    
            ]
ruler.add_patterns(patterns)
doc = nlp(text)

for ent in doc.ents:
    print (ent.text, ent.label_)






