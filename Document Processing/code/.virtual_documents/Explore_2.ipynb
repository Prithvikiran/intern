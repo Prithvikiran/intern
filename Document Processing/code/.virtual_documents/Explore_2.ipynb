import pandas as pd
import os
import json
import matplotlib as plt
import math


df=pd.read_csv('Work.csv')
df


df['Geometry'][0]


X1=[]
X2=[]
X3=[]
X4=[]
Y1=[]
Y2=[]
Y3=[]
Y4=[]
for index, row in df.iterrows():
    data_str=df['Geometry'][index]
    data_str = data_str.replace("'", '"')
    data = json.loads(data_str)
    l1=data['Polygon']
    X1.append(l1[0]['X'])
    X2.append(l1[0]['Y'])
    X3.append(l1[1]['X'])
    X4.append(l1[1]['Y'])
    Y1.append(l1[2]['X'])
    Y2.append(l1[2]['Y'])
    Y3.append(l1[3]['X'])
    Y4.append(l1[3]['Y'])

    
  

    


df


df=df.drop(['Unnamed: 0'],axis=1)
df


df


data_str=df['Geometry'][7]


Y


data['Polygon'][1]['X']


l1=data['Polygon']


l1[1]['X']


# Possible approaches 
# Basic Clustering algorithms 
# RANSAC



import matplotlib.pyplot as plt

plt.figure(figsize=(8, 6))
plt.plot(X,Y, marker='o',color='b', label='Data Points')
plt.title('Plot of x vs y')
plt.xlabel('x values')
plt.ylabel('y values')
plt.grid(True)
plt.legend()
plt.show()

   




X=[0.42196462, 0.6352064,0.6351945999999999, 0.42195174]
Y=[0.041771382,0.042113587,0.056123335,0.055781223000000005]


def visual(X,Y):
    plt.figure(figsize=(8, 6))
    plt.plot(X,Y, marker='o',color='b', label='Data Points')
    plt.title('Plot of x vs y')
    plt.xlabel('x values')
    plt.ylabel('y values')
    plt.grid(True)
    plt.legend()
    plt.show()

    




X1=[]
X2=[]
X3=[]
X4=[]
Y1=[]
Y2=[]
Y3=[]
Y4=[]
for index, row in df.iterrows():
    data_str=df['Geometry'][index]
    data_str = data_str.replace("'", '"')
    data = json.loads(data_str)
    X1.append(data['BoundingBox']['Left'])
    Y1.append(data['BoundingBox']['Top'])
    X2.append(data['BoundingBox']['Left'])
    Y2.append(data['BoundingBox']['Top'])
    X3.append(data['BoundingBox']['Left'])
    Y3.append(data['BoundingBox']['Top'])
    X4.append(data['BoundingBox']['Left'])
    Y4.append(data['BoundingBox']['Top'])

    
    


len(Y1)


X=[]
Y=[]
for i in range(len(X1)):
    a=(X1[i]+ X2[i] + X3[i] + X4[i])/4
    b=(Y1[i]+ Y2[i] + Y3[i] + Y4[i])/4
    X.append(a)
    Y.append(b)


df['BoundingX']=X
df['BoundingY']=Y


df


visual(X,Y)


distances=[]
import math
def euclidean_distance(X,Y):
    for i in range(len(X)):
         cx=X[i]
         cy=Y[i]
         distances=[]
         for j in range(len(X):
             if(cx==X[j]||cy==X[j]):
                 distances.append(1000000000)
             else:
                 distances.append(math.sqrt((cx - X[j]) ** 2 + (cy - X[j]) ** 2)
                 
                 
                 
    
        
   



import math

def euclidean_distance(point1, point2):
    if len(point1) != len(point2):
        raise ValueError("Points must have the same number of dimensions")
    
    distance = math.sqrt(sum((p2 - p1) ** 2 for p1, p2 in zip(point1, point2)))
    return distance



import math

min_distances = []

def compute_distance(X, Y):
    for i in range(len(X)):
        point_1 = X[i]
        point_2 = Y[i]
        distances = []
        
        for j in range(len(Y)):
            distance = math.sqrt((point_1 - X[j])**2 + (point_2 - Y[j])**2)
            if distance != 0:
                distances.append(distance)
        
        if distances: 
            a = min(distances)
        else:
            a = float('inf')  
            
        min_distances.append(a)


compute_distance(X, Y)
print(min_distances)

            
                
            
    
    


avg_min_distance=sum(min_distances)/len(min_distances)



avg_min_distance


!pip install scikit-learn


import numpy as np
import matplotlib.pyplot as plt
from scipy.cluster.hierarchy import linkage, dendrogram, fcluster

points = np.array(list(zip(X, Y)))
Z = linkage(points, method='single')

plt.figure(figsize=(10, 7))
dendrogram(Z)
plt.title('Dendrogram for Single-Linkage Clustering')
plt.xlabel('Sample index')
plt.ylabel('Distance')
plt.show()

threshold = avg_min_distance

labels = fcluster(Z, t=threshold, criterion='distance')

plt.scatter(points[:, 0], points[:, 1], c=labels, cmap='viridis', marker='o')
plt.xlabel('X Coordinates')
plt.ylabel('Y Coordinates')
plt.title(f'Single-Linkage Clustering with threshold={threshold}')
plt.show()



Y


import numpy as np



X_array = np.array(X)
Y_array = np.array(Y)

coordinates = np.column_stack((X_array, Y_array))


print(len(coordinates))



import numpy as np
from sklearn.cluster import DBSCAN
from scipy.spatial.distance import pdist, squareform

def cluster_points(coordinates, threshold):

    db = DBSCAN(eps=threshold, min_samples=1).fit(coordinates)
    labels = db.labels_
    unique_labels = set(labels)
    clusters = [coordinates[labels == label] for label in unique_labels if label != -1]  
    
    valid_clusters = []
    for cluster in clusters:
        if len(cluster) > 1:
            pairwise_distances = pdist(cluster)
            if np.all(pairwise_distances <= threshold):
                valid_clusters.append(cluster)
        else:
            valid_clusters.append(cluster)
    
    return valid_clusters


threshold = 0.04669772995567155

clusters = cluster_points(coordinates, threshold)

for i, cluster in enumerate(clusters):
    print(f"Cluster {i + 1}:")
    print(cluster)






import matplotlib.pyplot as plt
import numpy as np

clusters = {
    1: np.array([[0.42195174, 0.04177138]]),
    2: np.array([[0.34110945, 0.05881324], [0.31207994, 0.07592878], [0.3191235, 0.09377637]]),
    3: np.array([[0.6172064, 0.13451995]]),
    4: np.array([[0.06195787, 0.15079656]]),
    5: np.array([[0.12172729, 0.18052334]]),
    6: np.array([[0.69469255, 0.4418811]]),
    7: np.array([[0.67611814, 0.6590588], [0.6854659, 0.6785192]]),
    8: np.array([[0.7973429, 0.6614041], [0.8063925, 0.6815473]]),
    9: np.array([[0.39758375, 0.717387]]),
    10: np.array([[0.63857776, 0.7202393]]),
    11: np.array([[0.0503922, 0.909799], [0.04572624, 0.9301864]]),
    12: np.array([[0.6821755, 0.9179466]]),
    13: np.array([[0.7906691, 0.9187455], [0.8284387, 0.9400303]])
}

colors = ['b', 'g', 'r', 'c', 'm', 'y', 'k', 'orange', 'purple', 'brown', 'pink', 'lime', 'navy']
markers = ['o', 's', '^', 'D', 'v', 'P', 'X', '*', '<', '>', 'p', 'h', '+']


plt.figure(figsize=(10, 8))
for i, cluster in clusters.items():
    plt.scatter(cluster[:, 0], cluster[:, 1], color=colors[i % len(colors)], marker=markers[i % len(markers)], label=f'Cluster {i}')

plt.title('Clusters')
plt.xlabel('X Coordinate')
plt.ylabel('Y Coordinate')
plt.legend()
plt.grid(True)

plt.show()



import numpy as np
from sklearn.cluster import DBSCAN
from scipy.spatial.distance import pdist, squareform

def cluster_points(coordinates, min_samples):
    # Compute pairwise distances
    pairwise_distances = squareform(pdist(coordinates))
    
    # Calculate average distance between points
    avg_distance = np.mean(pairwise_distances)
    
    # Set eps to 0.1 times the average distance
    eps = 0.1 * avg_distance
    
    # Run DBSCAN
    db = DBSCAN(eps=eps, min_samples=min_samples).fit(coordinates)
    labels = db.labels_
    
    unique_labels = set(labels)
    clusters = [coordinates[labels == label] for label in unique_labels if label != -1]  
    
    valid_clusters = []
    for cluster in clusters:
        if len(cluster) > 1:
            pairwise_distances = pdist(cluster)
            if np.all(pairwise_distances <= eps):
                valid_clusters.append(cluster)
        else:
            valid_clusters.append(cluster)
    
    return valid_clusters

# Example coordinates
coordinates = np.random.rand(42, 2)  # Example random coordinates

# Define minimum number of samples for DBSCAN
min_samples = 2  # Adjust this based on your data

# Cluster the points
clusters = cluster_points(coordinates, min_samples)

# Print clusters
for i, cluster in enumerate(clusters):
    print(f"Cluster {i + 1}:")
    print(cluster)



import spacy

text = "Prithvi kiran : +91 7550070811, pk : +1 7864453222"
nlp = spacy.blank("en")

ruler = nlp.add_pipe("entity_ruler")

patterns = [
    {"label": "INDIA", "pattern": [{"ORTH": "+91"}, {"SHAPE": "dddddddddd"}]},
    {"label": "USA or CANADA", "pattern": [{"ORTH": "+1"}, {"SHAPE": "ddddddddd"}]},
    {"label": "UK", "pattern": [{"ORTH": "+44"}, {"SHAPE": "dddddddddd"}]},
    {"label": "Australia", "pattern": [{"ORTH": "+61"}, {"SHAPE": "dddddddddd"}]},
    {"label": "China", "pattern": [{"ORTH": "+86"}, {"SHAPE": "dddddddddd"}]},
    {"label": "Germany", "pattern": [{"ORTH": "+49"}, {"SHAPE": "dddddddddd"}]},
    {"label": "France", "pattern": [{"ORTH": "+33"}, {"SHAPE": "dddddddddd"}]},
    {"label": "Japan", "pattern": [{"ORTH": "+81"}, {"SHAPE": "dddddddddd"}]},
    {"label": "Brazil", "pattern": [{"ORTH": "+55"}, {"SHAPE": "dddddddddd"}]}
]

ruler.add_patterns(patterns)
doc = nlp(text)

for ent in doc.ents:
    print(ent.text, ent.label_)







