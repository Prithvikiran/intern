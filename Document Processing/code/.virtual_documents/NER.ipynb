import spacy 
nlp=spacy.load('en_core_web_sm')






text= " Hi this is Prithvi kiran "
doc=nlp(text)
type(doc)



for token in doc :
    print(token)
spacy.explain('PERSON')    


for sent in doc.sents:
    print(sent)


token.ent_type_
token.head
token.ent_iob_
token.dep_


sentence=list(doc.sents)[0]


from spacy import displacy


displacy.render(sentence,style="ent")


len(sentence[0].vector)


integer=nlp.vocab.strings['cat']


integer


words[:5]





doc1=nlp("Hi this is Prithvi Kiran")
doc2=nlp("I am Prithvi Kiran")
doc1.similarity(doc2)






