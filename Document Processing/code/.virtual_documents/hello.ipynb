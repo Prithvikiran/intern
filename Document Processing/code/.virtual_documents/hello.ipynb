import pandas as pd
import json


word_json_df=pd.read_json('wjson.json')
txt_json_df=pd.read_json('txt-json.json')
word_json_df


l1=word_json.columns
l2=txt_json.columns


word_json_df['Relationships'][0]



dummy_df=word_json_df['BlockType']


dummy_df.value_counts()



word_json_df['Geometry'][4]['BoundingBox']['Height']



for key, value in word_json_df.iterrows():
    print(key, value)
    print()


for  in word_json_df.iterrows():
    print(word_json_df['BlockType'])


nested_dict=[]
for index, row in word_json_df.iterrows():
    nested_dict.append(word_json_df['BlockType'][index]['Value'])
    
    


columns=['Blocktype']
df = pd.DataFrame(nested_dict, columns=columns)


print(nested_dict)    


l1=[]
l1=df.values.tolist()


word_json_df['Blocktype']=1


word_json_df


l1
df=pd.DataFrame()
df['Blocktype']=flattened_list



flattened_list = [sublist[0] for sublist in l1]
print(flattened_list)



word_json_df['Blocktype']=flattened_list


word_json_df


word_json_df.columns


refined_df=word_json_df.drop(['ColumnIndex', 'ColumnSpan', 'Confidence', 'EntityTypes', 'Page', 'RowIndex', 'RowSpan',
       'SelectionStatus', 'TextType', 'BlockType'],axis=1)


new_df=refined_df[refined_df['Blocktype']=='LINE']


new_df.to_csv('Work.csv')


refined_df['Geometry']



