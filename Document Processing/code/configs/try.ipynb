{
 "cells": [
  {
   "cell_type": "code",
   "execution_count": 1,
   "id": "dc0a8dab-e46c-4d16-9412-bb5803a79f80",
   "metadata": {},
   "outputs": [],
   "source": [
    "import spacy \n",
    "from spacy import displacy\n",
    "nlp=spacy.load('en_core_web_sm')"
   ]
  },
  {
   "cell_type": "code",
   "execution_count": 2,
   "id": "781ffff8-7ecd-471b-997f-5a37d07a6d3b",
   "metadata": {},
   "outputs": [],
   "source": [
    "patterns = [\n",
    "   #{\"label\": \"AirlineCode\", \"pattern\": r\"^[A-Z]{4}\\d{3}$\"},\n",
    "    {\"label\":\"ID\",\"pattern\":\"#123*\"},\n",
    "    {\"label\":\"NEW\",\"pattern\":\"#342*\"},\n",
    "    {\"label\":\"ID\",\"pattern\":\"#456#\"},\n",
    "    {\"label\":\"ID\",\"pattern\":\"#135#\"},\n",
    "    {\"label\":\"SEC\",\"pattern\":\"IPL\"}\n",
    "]"
   ]
  },
  {
   "cell_type": "code",
   "execution_count": 3,
   "id": "a88301b9-ba72-48c0-b05f-871461f649cf",
   "metadata": {},
   "outputs": [
    {
     "name": "stdout",
     "output_type": "stream",
     "text": [
      "342 MONEY\n",
      "#123* MONEY\n",
      "IPL SEC\n",
      "2025 DATE\n"
     ]
    }
   ],
   "source": [
    "text=\"#342* is the map for #123* . IPL 2025 .\"\n",
    "ruler = nlp.add_pipe(\"entity_ruler\")\n",
    "ruler.add_patterns(patterns)\n",
    "doc = nlp(text)\n",
    "\n",
    "for ent in doc.ents:\n",
    "    print (ent.text, ent.label_)"
   ]
  },
  {
   "cell_type": "code",
   "execution_count": null,
   "id": "6899cb7d-f52d-48d6-8022-fe54f747bd7d",
   "metadata": {},
   "outputs": [],
   "source": []
  }
 ],
 "metadata": {
  "kernelspec": {
   "display_name": "Python 3 (ipykernel)",
   "language": "python",
   "name": "python3"
  },
  "language_info": {
   "codemirror_mode": {
    "name": "ipython",
    "version": 3
   },
   "file_extension": ".py",
   "mimetype": "text/x-python",
   "name": "python",
   "nbconvert_exporter": "python",
   "pygments_lexer": "ipython3",
   "version": "3.11.5"
  }
 },
 "nbformat": 4,
 "nbformat_minor": 5
}
