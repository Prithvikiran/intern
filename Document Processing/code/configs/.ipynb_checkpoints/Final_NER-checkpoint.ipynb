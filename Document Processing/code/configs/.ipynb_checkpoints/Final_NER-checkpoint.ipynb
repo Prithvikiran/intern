{
 "cells": [
  {
   "cell_type": "code",
   "execution_count": 1,
   "id": "772624bb-dd53-494b-80d1-1781225e1d8d",
   "metadata": {},
   "outputs": [],
   "source": [
    "import spacy \n",
    "from spacy import displacy\n",
    "nlp=spacy.load('en_core_web_sm')"
   ]
  },
  {
   "cell_type": "code",
   "execution_count": 2,
   "id": "cd6023a4-4863-48c0-966e-aa0abed61905",
   "metadata": {},
   "outputs": [],
   "source": [
    "ruler = nlp.add_pipe(\"span_ruler\")\n",
    "text= \"Hi welcome to AIRE500 , this is captain pk.PRITHVI KIRAN ON ROLL CALL #334#\""
   ]
  },
  {
   "cell_type": "code",
   "execution_count": 4,
   "id": "b117f966-5db1-4ca1-8a2f-9a8dfc86ffea",
   "metadata": {},
   "outputs": [],
   "source": [
    "import spacy\n",
    "\n",
    "def AirlineCodes(text):\n",
    "\n",
    "    patterns = [\n",
    "    {\"label\": \"AirlineCode\", \"pattern\": r\"^[A-Z]{4}\\d{3}$\"},\n",
    "    {\"label\":\"ID\",\"pattern\":\"#123#\"},\n",
    "    {\"label\":\"ID\",\"pattern\":\"#342#\"},\n",
    "    {\"label\":\"ID\",\"pattern\":\"#456#\"},\n",
    "    {\"label\":\"ID\",\"pattern\":\"#135#\"},\n",
    "    {\"label\":\"SEC\",\"pattern\":\"IPL\"},\n",
    "    {\"label\": \"INDIA\", \"pattern\": [{\"ORTH\": \"+91\"}, {\"SHAPE\": \"dddddddddd\"}]},\n",
    "    {\"label\": \"USA or CANADA\", \"pattern\": [{\"ORTH\": \"+1\"}, {\"SHAPE\": \"ddddddddd\"}]}\n",
    "    ]\n",
    "    ruler.add_patterns(patterns)\n",
    "    doc = nlp(text)\n",
    "\n",
    "    for ent in doc.ents:\n",
    "        print (ent.text, ent.label_)\n",
    "    \n"
   ]
  },
  {
   "cell_type": "code",
   "execution_count": 5,
   "id": "3e7d0e35-3569-40b0-a1f4-0580ffbfe58a",
   "metadata": {},
   "outputs": [
    {
     "name": "stdout",
     "output_type": "stream",
     "text": [
      "#334# MONEY\n"
     ]
    }
   ],
   "source": [
    "AirlineCodes(text)"
   ]
  },
  {
   "cell_type": "code",
   "execution_count": 7,
   "id": "d8011576-274f-4359-97d5-5dcdf22b6103",
   "metadata": {},
   "outputs": [
    {
     "name": "stdout",
     "output_type": "stream",
     "text": [
      "15578876784678163569 HelloWorld 0 3 Hello, world\n"
     ]
    }
   ],
   "source": [
    "import spacy\n",
    "from spacy.matcher import Matcher\n",
    "\n",
    "nlp = spacy.load(\"en_core_web_sm\")\n",
    "matcher = Matcher(nlp.vocab)\n",
    "\n",
    "def find\n",
    "pattern = [{\"LOWER\": \"hello\"}, {\"IS_PUNCT\": True}, {\"LOWER\": \"world\"}]\n",
    "matcher.add(\"HelloWorld\", [pattern])\n",
    "\n",
    "doc = nlp(\"Hello, world! Hello world!\")\n",
    "matches = matcher(doc)\n",
    "for match_id, start, end in matches:\n",
    "    string_id = nlp.vocab.strings[match_id]  \n",
    "    span = doc[start:end]\n",
    "    print(match_id, string_id, start, end, span.text)"
   ]
  },
  {
   "cell_type": "code",
   "execution_count": 8,
   "id": "87a29cd0-7e36-49c4-9e9a-e7e625529326",
   "metadata": {},
   "outputs": [
    {
     "name": "stdout",
     "output_type": "stream",
     "text": [
      "[('Apple', 'ORG'), ('San Francisco', 'GPE')]\n"
     ]
    }
   ],
   "source": [
    "import spacy\n",
    "\n",
    "nlp = spacy.blank(\"en\")\n",
    "ruler = nlp.add_pipe(\"span_ruler\")\n",
    "patterns = [{\"label\": \"ORG\", \"pattern\": \"Apple\"},\n",
    "            {\"label\": \"GPE\", \"pattern\": [{\"LOWER\": \"san\"}, {\"LOWER\": \"francisco\"}]}]\n",
    "ruler.add_patterns(patterns)\n",
    "\n",
    "doc = nlp(\"Apple is opening its first big office in San Francisco.\")\n",
    "print([(span.text, span.label_) for span in doc.spans[\"ruler\"]])"
   ]
  },
  {
   "cell_type": "code",
   "execution_count": null,
   "id": "ea8dfb24-1c65-4aaf-a54f-a41c9abfdf54",
   "metadata": {},
   "outputs": [],
   "source": []
  }
 ],
 "metadata": {
  "kernelspec": {
   "display_name": "Python 3 (ipykernel)",
   "language": "python",
   "name": "python3"
  },
  "language_info": {
   "codemirror_mode": {
    "name": "ipython",
    "version": 3
   },
   "file_extension": ".py",
   "mimetype": "text/x-python",
   "name": "python",
   "nbconvert_exporter": "python",
   "pygments_lexer": "ipython3",
   "version": "3.11.5"
  }
 },
 "nbformat": 4,
 "nbformat_minor": 5
}
