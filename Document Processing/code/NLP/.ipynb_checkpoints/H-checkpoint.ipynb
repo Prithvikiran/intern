{
 "cells": [
  {
   "cell_type": "code",
   "execution_count": null,
   "id": "89760b41-5238-4e90-b984-8cb3e3910bf1",
   "metadata": {},
   "outputs": [],
   "source": [
    "import spacy\n",
    "import pandas"
   ]
  },
  {
   "cell_type": "code",
   "execution_count": null,
   "id": "6197e5b7-4430-421e-8de3-8847c0c69385",
   "metadata": {},
   "outputs": [],
   "source": []
  }
 ],
 "metadata": {
  "kernelspec": {
   "display_name": "Python 3 (ipykernel)",
   "language": "python",
   "name": "python3"
  },
  "language_info": {
   "codemirror_mode": {
    "name": "ipython",
    "version": 3
   },
   "file_extension": ".py",
   "mimetype": "text/x-python",
   "name": "python",
   "nbconvert_exporter": "python",
   "pygments_lexer": "ipython3",
   "version": "3.11.5"
  }
 },
 "nbformat": 4,
 "nbformat_minor": 5
}
